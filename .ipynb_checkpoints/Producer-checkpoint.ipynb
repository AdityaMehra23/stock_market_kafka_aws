{
 "cells": [
  {
   "cell_type": "code",
   "execution_count": null,
   "id": "d2088d8a",
   "metadata": {},
   "outputs": [],
   "source": [
    "# Install these if not already done\n",
    "#!pip install kafka-python\n",
    "#!pip install s3fs"
   ]
  },
  {
   "cell_type": "code",
   "execution_count": null,
   "id": "d9748f7c",
   "metadata": {},
   "outputs": [],
   "source": [
    "import pandas as pd\n",
    "from kafka import KafkaProducer\n",
    "from time import sleep\n",
    "from json import dumps\n",
    "import json"
   ]
  },
  {
   "cell_type": "code",
   "execution_count": null,
   "id": "2cbc7533",
   "metadata": {},
   "outputs": [],
   "source": [
    "producer = KafkaProducer(bootstrap_servers=['66.16.104.22:9092'], #ip of EC2 machines\n",
    "                         value_serializer=lambda x: \n",
    "                         dumps(x).encode('utf-8'))\n"
   ]
  },
  {
   "cell_type": "code",
   "execution_count": null,
   "id": "7c25fa23",
   "metadata": {},
   "outputs": [],
   "source": [
    "# to get data in the form of a stream\n",
    "index = 0\n",
    "df = pd.read_csv(\"stock-market-data.csv\")\n",
    "while index<=1000:\n",
    "    dict_stock = df.iloc[[index]].to_dict(orient=\"records\")[0]\n",
    "    # send the data to kafka topic named 'my_project'\n",
    "    producer.send('my_project', value=dict_stock)\n",
    "    sleep(1)\n",
    "    index += 1"
   ]
  },
  {
   "cell_type": "code",
   "execution_count": null,
   "id": "6e784b20",
   "metadata": {},
   "outputs": [],
   "source": [
    "#wait for data to sent effectively\n",
    "producer.flush() "
   ]
  }
 ],
 "metadata": {
  "kernelspec": {
   "display_name": "Python 3 (ipykernel)",
   "language": "python",
   "name": "python3"
  },
  "language_info": {
   "codemirror_mode": {
    "name": "ipython",
    "version": 3
   },
   "file_extension": ".py",
   "mimetype": "text/x-python",
   "name": "python",
   "nbconvert_exporter": "python",
   "pygments_lexer": "ipython3",
   "version": "3.9.13"
  }
 },
 "nbformat": 4,
 "nbformat_minor": 5
}
