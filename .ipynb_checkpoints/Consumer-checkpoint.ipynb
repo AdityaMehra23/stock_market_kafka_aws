{
 "cells": [
  {
   "cell_type": "code",
   "execution_count": null,
   "id": "ae0a81cc",
   "metadata": {},
   "outputs": [],
   "source": [
    "from kafka import KafkaConsumer\n",
    "from time import sleep\n",
    "from json import dumps,loads\n",
    "import json\n",
    "from s3fs import S3FileSystem"
   ]
  },
  {
   "cell_type": "code",
   "execution_count": null,
   "id": "2dbab6bd",
   "metadata": {},
   "outputs": [],
   "source": [
    "consumer = KafkaConsumer(\n",
    "    'my_project',\n",
    "     bootstrap_servers=['66.16.104.22:9092'], #ip of machine where kafka is installed\n",
    "    value_deserializer=lambda x: loads(x.decode('utf-8')))"
   ]
  },
  {
   "cell_type": "code",
   "execution_count": null,
   "id": "d31977bc",
   "metadata": {},
   "outputs": [],
   "source": [
    "# object for loading data to S3\n",
    "s3 = S3FileSystem()"
   ]
  },
  {
   "cell_type": "code",
   "execution_count": null,
   "id": "06a1e4cb",
   "metadata": {},
   "outputs": [],
   "source": [
    "for count, message in enumerate(consumer):\n",
    "    with s3.open(\"s3://kafka-stock-market/stock_market_{}.json\".format(count), 'w') as file:\n",
    "        #load data into S3\n",
    "        json.dump(message.value, file) \n"
   ]
  }
 ],
 "metadata": {
  "kernelspec": {
   "display_name": "Python 3 (ipykernel)",
   "language": "python",
   "name": "python3"
  },
  "language_info": {
   "codemirror_mode": {
    "name": "ipython",
    "version": 3
   },
   "file_extension": ".py",
   "mimetype": "text/x-python",
   "name": "python",
   "nbconvert_exporter": "python",
   "pygments_lexer": "ipython3",
   "version": "3.9.13"
  }
 },
 "nbformat": 4,
 "nbformat_minor": 5
}
